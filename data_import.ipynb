{
 "cells": [
  {
   "cell_type": "code",
   "execution_count": 7,
   "metadata": {},
   "outputs": [],
   "source": [
    "import pandas as pd\n",
    "import numpy as np\n",
    "import pymongo"
   ]
  },
  {
   "cell_type": "code",
   "execution_count": 8,
   "metadata": {},
   "outputs": [],
   "source": [
    "# csv file path\n",
    "homeownership_csv = \"Resources/Homeownership_Rate_by_State_Pcnt.csv\"\n",
    "bachelor_degree_csv = \"Resources/Bachelors_Degree_or_Higher_by_State_Percent.csv\"\n",
    "hs_grad_csv = \"Resources/High_School_Graduate_or_Higher_by_State_Percent.csv\"\n",
    "median_hh_income_csv = \"Resources/Median_Household_Income_by_State_Current_Dollars.csv\"\n",
    "per_capita_income_csv = \"Resources/Per_Capita_Personal_Income_by_State_Dollars.csv\"\n",
    "ttl_gdp_by_state_csv = \"Resources/Total_Gross_Domestic_Product_by_State_Millions_of_Dollars.csv\""
   ]
  },
  {
   "cell_type": "code",
   "execution_count": 9,
   "metadata": {},
   "outputs": [],
   "source": [
    "# Import the csv files into their respective dataframes\n",
    "homeownership_df = pd.read_csv(homeownership_csv, encoding=\"utf-8\")\n",
    "bachelor_degree_df = pd.read_csv(bachelor_degree_csv, encoding=\"utf-8\")\n",
    "hs_grad_df = pd.read_csv(hs_grad_csv, encoding=\"utf-8\")\n",
    "median_hh_income_df = pd.read_csv(median_hh_income_csv, encoding=\"utf-8\")\n",
    "per_capita_income_df = pd.read_csv(per_capita_income_csv, encoding=\"utf-8\")\n",
    "ttl_gdp_by_state_df = pd.read_csv(ttl_gdp_by_state_csv, encoding=\"utf-8\")"
   ]
  },
  {
   "cell_type": "code",
   "execution_count": 10,
   "metadata": {},
   "outputs": [],
   "source": [
    "# set indexes to the state name\n",
    "homeownership_df.set_index(\"Region Name\", inplace = True)\n",
    "bachelor_degree_df.set_index(\"Region Name\", inplace = True)\n",
    "hs_grad_df.set_index(\"Region Name\", inplace = True)\n",
    "median_hh_income_df.set_index(\"Region Name\", inplace = True)\n",
    "per_capita_income_df.set_index(\"Region Name\", inplace = True)\n",
    "ttl_gdp_by_state_df.set_index(\"Region Name\", inplace = True)"
   ]
  },
  {
   "cell_type": "code",
   "execution_count": null,
   "metadata": {},
   "outputs": [],
   "source": [
    "# view homeown_by_state_df data\n",
    "homeownership_df.head()\n",
    "\n",
    "homeownership_series = homeownership_df['1984']\n",
    "homeownership_series.head()\n",
    "\n",
    "for items in homeownership_series.iteritems(): \n",
    "    print(items[0],items[1]) \n",
    "    \n",
    "    \n",
    "\n"
   ]
  },
  {
   "cell_type": "code",
   "execution_count": 13,
   "metadata": {},
   "outputs": [
    {
     "name": "stderr",
     "output_type": "stream",
     "text": [
      "IOPub data rate exceeded.\n",
      "The notebook server will temporarily stop sending output\n",
      "to the client in order to avoid crashing it.\n",
      "To change this limit, set the config variable\n",
      "`--NotebookApp.iopub_data_rate_limit`.\n",
      "\n",
      "Current values:\n",
      "NotebookApp.iopub_data_rate_limit=1000000.0 (bytes/sec)\n",
      "NotebookApp.rate_limit_window=3.0 (secs)\n",
      "\n"
     ]
    }
   ],
   "source": [
    "state_metrics_list = []\n",
    "\n",
    "year_range = np.arange(1984,2020)\n",
    "\n",
    "for i in year_range:\n",
    "    \n",
    "    year = str(i)\n",
    "    \n",
    "    homeownership_series = homeownership_df[year]\n",
    "    bachelor_degree_series = homeownership_df[year]\n",
    "    \n",
    "    for items in homeownership_series.iteritems(): \n",
    "        \n",
    "        state_by_year_dict = {}\n",
    "        \n",
    "        state_by_year_dict['state'] = items[0]\n",
    "        state_by_year_dict['year'] = i\n",
    "        state_by_year_dict['homeownership rate'] = items[1]\n",
    "        \n",
    "        for items in bachelor_degree_series.iteritems():  \n",
    "            state_by_year_dict['bachelor degree pcnt'] = items[1]\n",
    "            state_metrics_list.append(state_by_year_dict )\n",
    "\n",
    "print(state_metrics_list )\n"
   ]
  },
  {
   "cell_type": "code",
   "execution_count": null,
   "metadata": {},
   "outputs": [],
   "source": [
    "# view bachelor_degree_by_state_df data\n",
    "bachelor_degree_by_state_df.head()"
   ]
  },
  {
   "cell_type": "code",
   "execution_count": null,
   "metadata": {},
   "outputs": [],
   "source": [
    "# view hs_grad_by_state_df data\n",
    "hs_grad_by_state_df.head()"
   ]
  },
  {
   "cell_type": "code",
   "execution_count": null,
   "metadata": {},
   "outputs": [],
   "source": [
    "# view median_hh_income_df data\n",
    "median_hh_income_df.head()"
   ]
  },
  {
   "cell_type": "code",
   "execution_count": null,
   "metadata": {},
   "outputs": [],
   "source": [
    "# view per_capita_income_by_state_df data\n",
    "per_capita_income_by_state_df.head()"
   ]
  },
  {
   "cell_type": "code",
   "execution_count": null,
   "metadata": {},
   "outputs": [],
   "source": [
    "# view ttl_gdp_by_state_df  data\n",
    "ttl_gdp_by_state_df.head()"
   ]
  },
  {
   "cell_type": "code",
   "execution_count": null,
   "metadata": {},
   "outputs": [],
   "source": []
  }
 ],
 "metadata": {
  "kernelspec": {
   "display_name": "Python [conda env:.conda-PythonData] *",
   "language": "python",
   "name": "conda-env-.conda-PythonData-py"
  },
  "language_info": {
   "codemirror_mode": {
    "name": "ipython",
    "version": 3
   },
   "file_extension": ".py",
   "mimetype": "text/x-python",
   "name": "python",
   "nbconvert_exporter": "python",
   "pygments_lexer": "ipython3",
   "version": "3.6.10"
  }
 },
 "nbformat": 4,
 "nbformat_minor": 4
}
