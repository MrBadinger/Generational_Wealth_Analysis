{
 "cells": [
  {
   "cell_type": "code",
   "execution_count": null,
   "metadata": {},
   "outputs": [],
   "source": [
    "import pandas as pd\n",
    "import pymongo"
   ]
  },
  {
   "cell_type": "code",
   "execution_count": null,
   "metadata": {},
   "outputs": [],
   "source": [
    "# csv file path\n",
    "homeown_by_state_csv = \"Resources/Homeownership_Rate_by_State_Pcnt.csv\"\n",
    "bachelor_degree_by_state_csv = \"Resources/Bachelors_Degree_or_Higher_by_State_Percent\"\n",
    "hs_grad_by_state_csv = \"Resources/High_School_Graduate_or_Higher_by_State_Percent.csv\"\n",
    "median_hh_income_csv = \"Resources/Median_Household_Income_by_State_Current_Dollars.csv\"\n",
    "per_capita_income_by_state_csv = \"Resources/Per_Capita_Personal_Income_by_State_Dollars.csv\"\n",
    "ttl_gdp_by_state_csv = \"Resources/Total_Gross_Domestic_Product_by_State_Millions_of_Dollars.csv\"\n",
    "\n",
    "# Import the csv files into their respective dataframes\n",
    "homeown_by_state_df = pd.read_csv(homeown_by_state_csv, encoding=\"utf-8\")\n",
    "bachelor_degree_by_state_df = pd.read_csv(homeown_by_state_csv, encoding=\"utf-8\")\n",
    "hs_grad_by_state_df = pd.read_csv(hs_grad_by_state_csv, encoding=\"utf-8\")\n",
    "median_hh_income_df = pd.read_csv(median_hh_income_csv, encoding=\"utf-8\")\n",
    "per_capita_income_by_state_df = pd.read_csv(per_capita_income_by_state_csv, encoding=\"utf-8\")\n",
    "ttl_gdp_by_state_df = pd.read_csv(ttl_gdp_by_state_csv, encoding=\"utf-8\")"
   ]
  },
  {
   "cell_type": "code",
   "execution_count": null,
   "metadata": {},
   "outputs": [],
   "source": [
    "# view homeown_by_state_df data\n",
    "homeown_by_state_df.head()"
   ]
  },
  {
   "cell_type": "code",
   "execution_count": null,
   "metadata": {},
   "outputs": [],
   "source": [
    "# view bachelor_degree_by_state_df data\n",
    "bachelor_degree_by_state_df.head()"
   ]
  },
  {
   "cell_type": "code",
   "execution_count": null,
   "metadata": {},
   "outputs": [],
   "source": [
    "# view hs_grad_by_state_df data\n",
    "hs_grad_by_state_df.head()"
   ]
  },
  {
   "cell_type": "code",
   "execution_count": null,
   "metadata": {},
   "outputs": [],
   "source": [
    "# view median_hh_income_df data\n",
    "median_hh_income_df.head()"
   ]
  },
  {
   "cell_type": "code",
   "execution_count": null,
   "metadata": {},
   "outputs": [],
   "source": [
    "# view per_capita_income_by_state_df data\n",
    "per_capita_income_by_state_df.head()"
   ]
  },
  {
   "cell_type": "code",
   "execution_count": null,
   "metadata": {},
   "outputs": [],
   "source": [
    "# view ttl_gdp_by_state_df  data\n",
    "ttl_gdp_by_state_df.head()"
   ]
  },
  {
   "cell_type": "code",
   "execution_count": null,
   "metadata": {},
   "outputs": [],
   "source": []
  }
 ],
 "metadata": {
  "kernelspec": {
   "display_name": "Python [conda env:.conda-PythonData] *",
   "language": "python",
   "name": "conda-env-.conda-PythonData-py"
  },
  "language_info": {
   "codemirror_mode": {
    "name": "ipython",
    "version": 3
   },
   "file_extension": ".py",
   "mimetype": "text/x-python",
   "name": "python",
   "nbconvert_exporter": "python",
   "pygments_lexer": "ipython3",
   "version": "3.6.10"
  }
 },
 "nbformat": 4,
 "nbformat_minor": 4
}
